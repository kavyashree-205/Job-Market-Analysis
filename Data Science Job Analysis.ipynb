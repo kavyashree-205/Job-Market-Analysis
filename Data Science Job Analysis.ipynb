{
 "cells": [
  {
   "cell_type": "code",
   "execution_count": 67,
   "id": "6ceb13f3",
   "metadata": {},
   "outputs": [],
   "source": [
    "# import necessary libraries\n",
    "import numpy as np\n",
    "import pandas as pd\n",
    "import matplotlib.pyplot as plt\n",
    "import seaborn as sns\n",
    "import requests\n",
    "from bs4 import BeautifulSoup\n",
    "import warnings\n",
    "warnings.filterwarnings('ignore')\n",
    "pd.set_option('display.float_format',lambda x:\"%0.5f\" %x)"
   ]
  },
  {
   "cell_type": "code",
   "execution_count": 17,
   "id": "a6dd77a5",
   "metadata": {},
   "outputs": [],
   "source": [
    "# declare the lists required to store our web scraped data\n",
    "companies=[]\n",
    "skills=[]\n",
    "published_dates=[]\n",
    "experiences=[]\n",
    "locations=[]"
   ]
  },
  {
   "cell_type": "code",
   "execution_count": 18,
   "id": "9d41811f",
   "metadata": {},
   "outputs": [
    {
     "name": "stdout",
     "output_type": "stream",
     "text": [
      "Enter Designation: Data Scientist\n"
     ]
    }
   ],
   "source": [
    "# The job listings are based on the given role/designation\n",
    "input_=input(\"Enter Designation: \")\n",
    "li=input_.split(\" \")\n",
    "domain=\"%20\".join(li)"
   ]
  },
  {
   "cell_type": "code",
   "execution_count": 31,
   "id": "ef9a43e7",
   "metadata": {},
   "outputs": [],
   "source": [
    "# we have 25 job listed on a page\n",
    "# iterating through 20 webpages\n",
    "page_number=1\n",
    "err='None'\n",
    "while True:\n",
    "    # The url is customised based on the role and no of pages to iterate. \n",
    "    url=f\"https://www.timesjobs.com/candidate/job-search.html?from=submit&actualTxtKeywords={domain}&searchBy=0&rdoOperator=OR&searchType=personalizedSearch&luceneResultSize=25&postWeek=60&txtKeywords={domain}&pDate=I&sequence={page_number}&startPage=1\"\n",
    "    html_text=requests.get(url).text\n",
    "    soup=BeautifulSoup(html_text,'lxml')\n",
    "    jobs=soup.find_all('li',class_= 'clearfix job-bx wht-shd-bx')\n",
    "    if str(err)=='None' and len(companies)<500:\n",
    "        # Looping through each listed job\n",
    "        for job in jobs:\n",
    "            \n",
    "            #An error occurs when either the specified role lacks job listings \n",
    "            #or we have reached the end of the job listing loop.\n",
    "            err=job.find('span',class_='error-msg dflt-msg')\n",
    "            company_name=job.find('h3',class_='joblist-comp-name').text.strip()\n",
    "            skill=job.find('span',class_='srp-skills').text.strip()\n",
    "            published_date=job.find('span',class_='sim-posted').span.text\n",
    "            experience=job.find('ul',class_='top-jd-dtl clearfix').li.text[11:]\n",
    "            location=job.find('ul',class_='top-jd-dtl clearfix').span.text\n",
    "            \n",
    "            #Storing the scraped data for every job listing\n",
    "            companies.append(company_name)\n",
    "            skills.append(skill)\n",
    "            published_dates.append(published_date)\n",
    "            experiences.append(experience)\n",
    "            locations.append(location)\n",
    "        page_number=page_number+1\n",
    "    else:\n",
    "        break"
   ]
  },
  {
   "cell_type": "code",
   "execution_count": 34,
   "id": "2281c14f",
   "metadata": {},
   "outputs": [],
   "source": [
    "# storing in a pandas dataframe\n",
    "ds_jobs = pd.DataFrame({\n",
    "           \"company_name\":companies,\n",
    "           \"experience\":experiences,\n",
    "            \"location\" :locations,\n",
    "            \"skills\":skills,\n",
    "            \"posted_at\":published_dates})"
   ]
  },
  {
   "cell_type": "code",
   "execution_count": 35,
   "id": "36d1b15c",
   "metadata": {},
   "outputs": [],
   "source": [
    "# saving the stored data in .csv format\n",
    "ds_jobs.to_csv(\"job_demand.csv\")"
   ]
  },
  {
   "cell_type": "code",
   "execution_count": 36,
   "id": "b3eaedcf",
   "metadata": {},
   "outputs": [],
   "source": [
    "# Reading our stored data\n",
    "df=pd.read_csv(\"job_demand.csv\")"
   ]
  },
  {
   "cell_type": "code",
   "execution_count": 37,
   "id": "e2abcfad",
   "metadata": {},
   "outputs": [],
   "source": [
    "df.drop(columns='Unnamed: 0',inplace=True)"
   ]
  },
  {
   "cell_type": "code",
   "execution_count": 38,
   "id": "624f1171",
   "metadata": {},
   "outputs": [
    {
     "data": {
      "text/html": [
       "<div>\n",
       "<style scoped>\n",
       "    .dataframe tbody tr th:only-of-type {\n",
       "        vertical-align: middle;\n",
       "    }\n",
       "\n",
       "    .dataframe tbody tr th {\n",
       "        vertical-align: top;\n",
       "    }\n",
       "\n",
       "    .dataframe thead th {\n",
       "        text-align: right;\n",
       "    }\n",
       "</style>\n",
       "<table border=\"1\" class=\"dataframe\">\n",
       "  <thead>\n",
       "    <tr style=\"text-align: right;\">\n",
       "      <th></th>\n",
       "      <th>company_name</th>\n",
       "      <th>experience</th>\n",
       "      <th>location</th>\n",
       "      <th>skills</th>\n",
       "      <th>posted_at</th>\n",
       "    </tr>\n",
       "  </thead>\n",
       "  <tbody>\n",
       "    <tr>\n",
       "      <th>0</th>\n",
       "      <td>Armaco Chemical Processes Systems Pvt Ltd</td>\n",
       "      <td>0 - 3 yrs</td>\n",
       "      <td>Jeddah</td>\n",
       "      <td>business system  ,  infrastructure  ,  data sc...</td>\n",
       "      <td>Posted 3 days ago</td>\n",
       "    </tr>\n",
       "    <tr>\n",
       "      <th>1</th>\n",
       "      <td>HyreFox Consultants</td>\n",
       "      <td>0 - 3 yrs</td>\n",
       "      <td>Jaipur</td>\n",
       "      <td>data science  ,  data cleaning  ,  data scient...</td>\n",
       "      <td>Posted 5 days ago</td>\n",
       "    </tr>\n",
       "    <tr>\n",
       "      <th>2</th>\n",
       "      <td>Nielsen Research Ltd. Co.</td>\n",
       "      <td>4 - 7 yrs</td>\n",
       "      <td>Mumbai</td>\n",
       "      <td>visualization  ,  dashboards  ,  tableau  ,  d...</td>\n",
       "      <td>Posted few days ago</td>\n",
       "    </tr>\n",
       "    <tr>\n",
       "      <th>3</th>\n",
       "      <td>RedLotus</td>\n",
       "      <td>0 - 3 yrs</td>\n",
       "      <td>Mumbai</td>\n",
       "      <td>data scientist  ,  statistical modeling  ,  da...</td>\n",
       "      <td>Posted few days ago</td>\n",
       "    </tr>\n",
       "    <tr>\n",
       "      <th>4</th>\n",
       "      <td>Armaco Chemical Processes Systems Pvt Ltd</td>\n",
       "      <td>3 - 7 yrs</td>\n",
       "      <td>Jeddah</td>\n",
       "      <td>bi  ,  sql  ,  database  ,  data science  ,  d...</td>\n",
       "      <td>Posted 3 days ago</td>\n",
       "    </tr>\n",
       "  </tbody>\n",
       "</table>\n",
       "</div>"
      ],
      "text/plain": [
       "                                company_name experience location  \\\n",
       "0  Armaco Chemical Processes Systems Pvt Ltd  0 - 3 yrs   Jeddah   \n",
       "1                        HyreFox Consultants  0 - 3 yrs   Jaipur   \n",
       "2                  Nielsen Research Ltd. Co.  4 - 7 yrs   Mumbai   \n",
       "3                                   RedLotus  0 - 3 yrs   Mumbai   \n",
       "4  Armaco Chemical Processes Systems Pvt Ltd  3 - 7 yrs   Jeddah   \n",
       "\n",
       "                                              skills            posted_at  \n",
       "0  business system  ,  infrastructure  ,  data sc...    Posted 3 days ago  \n",
       "1  data science  ,  data cleaning  ,  data scient...    Posted 5 days ago  \n",
       "2  visualization  ,  dashboards  ,  tableau  ,  d...  Posted few days ago  \n",
       "3  data scientist  ,  statistical modeling  ,  da...  Posted few days ago  \n",
       "4  bi  ,  sql  ,  database  ,  data science  ,  d...    Posted 3 days ago  "
      ]
     },
     "execution_count": 38,
     "metadata": {},
     "output_type": "execute_result"
    }
   ],
   "source": [
    "df.head()"
   ]
  },
  {
   "cell_type": "code",
   "execution_count": 39,
   "id": "548e0bb4",
   "metadata": {},
   "outputs": [
    {
     "data": {
      "text/plain": [
       "(500, 5)"
      ]
     },
     "execution_count": 39,
     "metadata": {},
     "output_type": "execute_result"
    }
   ],
   "source": [
    "df.shape"
   ]
  },
  {
   "cell_type": "code",
   "execution_count": 40,
   "id": "3f746c15",
   "metadata": {},
   "outputs": [
    {
     "name": "stdout",
     "output_type": "stream",
     "text": [
      "<class 'pandas.core.frame.DataFrame'>\n",
      "RangeIndex: 500 entries, 0 to 499\n",
      "Data columns (total 5 columns):\n",
      " #   Column        Non-Null Count  Dtype \n",
      "---  ------        --------------  ----- \n",
      " 0   company_name  500 non-null    object\n",
      " 1   experience    500 non-null    object\n",
      " 2   location      399 non-null    object\n",
      " 3   skills        500 non-null    object\n",
      " 4   posted_at     500 non-null    object\n",
      "dtypes: object(5)\n",
      "memory usage: 19.7+ KB\n"
     ]
    }
   ],
   "source": [
    "df.info()"
   ]
  },
  {
   "cell_type": "code",
   "execution_count": 41,
   "id": "2da40510",
   "metadata": {
    "scrolled": true
   },
   "outputs": [
    {
     "data": {
      "text/html": [
       "<div>\n",
       "<style scoped>\n",
       "    .dataframe tbody tr th:only-of-type {\n",
       "        vertical-align: middle;\n",
       "    }\n",
       "\n",
       "    .dataframe tbody tr th {\n",
       "        vertical-align: top;\n",
       "    }\n",
       "\n",
       "    .dataframe thead th {\n",
       "        text-align: right;\n",
       "    }\n",
       "</style>\n",
       "<table border=\"1\" class=\"dataframe\">\n",
       "  <thead>\n",
       "    <tr style=\"text-align: right;\">\n",
       "      <th></th>\n",
       "      <th>company_name</th>\n",
       "      <th>experience</th>\n",
       "      <th>location</th>\n",
       "      <th>skills</th>\n",
       "      <th>posted_at</th>\n",
       "    </tr>\n",
       "  </thead>\n",
       "  <tbody>\n",
       "    <tr>\n",
       "      <th>count</th>\n",
       "      <td>500</td>\n",
       "      <td>500</td>\n",
       "      <td>399</td>\n",
       "      <td>500</td>\n",
       "      <td>500</td>\n",
       "    </tr>\n",
       "    <tr>\n",
       "      <th>unique</th>\n",
       "      <td>211</td>\n",
       "      <td>52</td>\n",
       "      <td>95</td>\n",
       "      <td>403</td>\n",
       "      <td>9</td>\n",
       "    </tr>\n",
       "    <tr>\n",
       "      <th>top</th>\n",
       "      <td>WALMART INDIA</td>\n",
       "      <td>0 - 3 yrs</td>\n",
       "      <td>Bengaluru / Bangalore</td>\n",
       "      <td>image processing  ,  algorithms  ,  python  , ...</td>\n",
       "      <td>Posted few days ago</td>\n",
       "    </tr>\n",
       "    <tr>\n",
       "      <th>freq</th>\n",
       "      <td>32</td>\n",
       "      <td>76</td>\n",
       "      <td>85</td>\n",
       "      <td>8</td>\n",
       "      <td>322</td>\n",
       "    </tr>\n",
       "  </tbody>\n",
       "</table>\n",
       "</div>"
      ],
      "text/plain": [
       "         company_name experience               location  \\\n",
       "count             500        500                    399   \n",
       "unique            211         52                     95   \n",
       "top     WALMART INDIA  0 - 3 yrs  Bengaluru / Bangalore   \n",
       "freq               32         76                     85   \n",
       "\n",
       "                                                   skills            posted_at  \n",
       "count                                                 500                  500  \n",
       "unique                                                403                    9  \n",
       "top     image processing  ,  algorithms  ,  python  , ...  Posted few days ago  \n",
       "freq                                                    8                  322  "
      ]
     },
     "execution_count": 41,
     "metadata": {},
     "output_type": "execute_result"
    }
   ],
   "source": [
    "df.describe(include=object)"
   ]
  },
  {
   "cell_type": "markdown",
   "id": "16e714ff",
   "metadata": {},
   "source": [
    "## Data Cleaning\n",
    "1. Null values in location column is replaced by 'Not Mentioned' \n",
    "2. Duplicated are removed\n",
    "3. Unwated escape characters are removed in company name column\n",
    "4. The experience column has been converted to integer datatype\n",
    "5. The hyphenated words in the location column were modified to form a single word\n",
    "6. Escape characters in posted at column were removed "
   ]
  },
  {
   "cell_type": "code",
   "execution_count": 42,
   "id": "5e8bb53a",
   "metadata": {},
   "outputs": [],
   "source": [
    "df['location'].fillna('Not Mentioned',inplace=True)"
   ]
  },
  {
   "cell_type": "code",
   "execution_count": 43,
   "id": "b6e25bd5",
   "metadata": {},
   "outputs": [],
   "source": [
    "df.drop_duplicates(inplace=True)"
   ]
  },
  {
   "cell_type": "code",
   "execution_count": 44,
   "id": "a2e9769b",
   "metadata": {},
   "outputs": [
    {
     "data": {
      "text/plain": [
       "array(['Armaco Chemical Processes Systems Pvt Ltd', 'HyreFox Consultants',\n",
       "       'Nielsen Research Ltd. Co.', 'RedLotus', 'Datagrid Solutions',\n",
       "       'RGF Professional', 'TERADATA INDIA PVT LTD',\n",
       "       'TECHNOPARK TRIVANDRUM', 'Efftronics Systems Pvt Ltd',\n",
       "       'BizViz Technologies', 'axmiyan hr solutions private limited',\n",
       "       'g7 cr technologies', 'Informatica', 'Orange Business Services',\n",
       "       'CONNECTING 2 WORK', 'Sumo Digital Ltd', 'PAGO Analytics',\n",
       "       'string bio pvt. ltd', 'NLP People', 'BrainToSoul Consulting',\n",
       "       'TandA HR Solutions', 'Cellworks', 'LogicPlum Private Limited',\n",
       "       'ion trading india pvt. ltd.', 'demoport', 'nutanxt technologies',\n",
       "       'aeries technology group  ( sabre industries )',\n",
       "       'pratibha analytics',\n",
       "       'Innoplexus Consulting Services Private Limited', 'GenieTalk',\n",
       "       'ispatial techno solutions pvt ltd.', 'covalense global',\n",
       "       'nielsensports', 'SRINSOFT TECHNOLOGIES',\n",
       "       'Travel Centric Technology', 'alliance recruitment agency',\n",
       "       'Tridiagonal Solutions Pvt. Ltd.',\n",
       "       'Exxonmobil Company India Pvt Ltd', 'Prompt Softech',\n",
       "       'IDP EDUCATION INDIA PVT LTD', 'Draup',\n",
       "       'pegasus knowledge solutions india pvt ltd.', 'ai enterprise',\n",
       "       'DIASPARK INC', 'verolt engineering private limited',\n",
       "       'the modern dimension', 'claim genius inc', 'True Influence',\n",
       "       'jupitice justice technologies pvt. ltd.',\n",
       "       'Deepakshi Recruiters\\r\\n     (More Jobs)',\n",
       "       'arimon digilytics pvt ltd', 'rackspace technology',\n",
       "       'sigmoid analutics',\n",
       "       'Ophthalmology Otolaryngology Community & Social Medicine',\n",
       "       'dun and bradstreet india pvt ltd', 'WALMART INDIA',\n",
       "       'INMOBI TECHNOLOGY SERVICES PRIVATE LIMITED', 'Epsilon',\n",
       "       'AxionConnect Infosolutions Pvt. Ltd.', 'Outsourcebigdata',\n",
       "       'ORMAE LLP', 'PUBLICIS GROUPE', 'Careem', 'AIR Worldwide',\n",
       "       'Sigmoid', 'Getty Images', 'ArisGlobal LLC', 'RED HAT',\n",
       "       'netomi  ( msgai labs )', 'Clarivate Analytics', 'recooty',\n",
       "       'gartner india research and advisory services',\n",
       "       'm / s simplex infrastructures ltd',\n",
       "       'IRT Computer Solutions  ( I )  Pvt Ltd', 'crescendo global',\n",
       "       'PatientMD', 'winzone technology pvt ltd', 'Ideapoke',\n",
       "       'Fanatics Inc.', 'brandmuscle india pvt ltd', 'Veeva Systems',\n",
       "       'Quantium Analytics', 'quicken software development pvt ltd',\n",
       "       'netradyne', 'AUGRAY PRIVATE LIMITED', 'Netxcell Ltd',\n",
       "       'Exxon Mobil Corporation', 'torcai digital media private limited',\n",
       "       'ConcertAI', 'algoanalytics pune',\n",
       "       'Augustin Xavier\\r\\n     (More Jobs)',\n",
       "       'SAMPOORNA CONSULTANTS PVT LTD\\r\\n     (More Jobs)',\n",
       "       'US Pharmacopeia', 'Qatargas Operating Co Ltd',\n",
       "       'grazitti interactive', 'HR Jobs Placements\\r\\n     (More Jobs)',\n",
       "       'Acuity Knowledge Partners', 'Paytm',\n",
       "       'Times World Information Technology',\n",
       "       'FLARIAL SERVICES LLP\\r\\n     (More Jobs)',\n",
       "       'Microsoft India Pvt Ltd', 'SAP Ariba', 'suntec india',\n",
       "       'Fiserv India Pvt Ltd', 'fiserv ce pvt ltd', 'AugmatrixGo',\n",
       "       'COGNITER TECHNOLOGIES', 'Stockholdings', 'BOSTON SCIENTIFIC',\n",
       "       'valens datalabs', 'eurofins it solutions pvt ltd',\n",
       "       'criyagen agri and biotech pvt ltd', 'zf india pvt ltd',\n",
       "       'statxo analytics', 'Iqvia', 'Allstate India',\n",
       "       'AMAZON INDIA PVT LTD', 'lastminute.com group',\n",
       "       'Sarosh Karki\\r\\n     (More Jobs)', 'Colgate-Palmolive  ( India )',\n",
       "       'GoVivace Inc.', 'Vasantdada Sugar Institute\\r\\n     (More Jobs)',\n",
       "       'Jeevan Scientific Technology Limited', 'indiabioscience',\n",
       "       'imperial life sciences pvt. limited',\n",
       "       'niramai health analytix pvt ltd', 'Corning', 'H.B. Fuller',\n",
       "       'genelon institute of life sciences pvt ltd',\n",
       "       'bkc weathersys private limited',\n",
       "       'SPECTROCHEM INSTRUMENTS PVT LTD',\n",
       "       'litmus7 systems consulting private limited',\n",
       "       'Alstom Projects India Ltd.', 'CRIMSON INTERACTIVE PVT LTD',\n",
       "       'Headhuntersinc consultancy Private Limited', 'SYSTEM SOFT INC.',\n",
       "       'ARSR Technologies', 'Infostretch Solution Pvt Ltd',\n",
       "       'Koch Global Business Services', 'ZeroFOX',\n",
       "       'Maxgen Technologies\\r\\n     (More Jobs)',\n",
       "       'NUWARE SYSTEMS PVT LTD', 'CROSSROAD ELF DSS PRIVATE LIMITED',\n",
       "       'colruyt it consultancy india pvt ltd.captive of colruyt belgium',\n",
       "       'Cotocus', 'resourceq services', 'Larsen & Toubro Infotech Ltd',\n",
       "       'livestream technologies  ( payroll- recruitree )',\n",
       "       'The Smart Cube India Pvt Ltd', 'aroopa technologies pvt ltd',\n",
       "       'InteleANTS Virtual Workforce Private Limited', 'Techversant',\n",
       "       'menorah personnel management india pvt ltd', 'Kwalee',\n",
       "       'SRI RAMACHANDRA MEDICAL COLLEGE AND RESEARCH INSTITUTE',\n",
       "       'Randstad MENA', 'palo alto networks  ( india )  pvt. ltd.',\n",
       "       'Electronic Arts Games  ( India )  Pvt. Ltd.', 'ea games',\n",
       "       'clean harbors', 'brickred  ( 3pillar global )',\n",
       "       'AbsolutData Research & Analytics  ( P )  Ltd',\n",
       "       'eMids Technologies Pvt Ltd', 'tech holding', 'Lalamove', 'pype',\n",
       "       'ANTHEM BIOSCIENCES', 'INSPIRATION MANPOWER',\n",
       "       'Saleem Khan\\r\\n     (More Jobs)', 'Information Services Group',\n",
       "       'Tata Communications Ltd',\n",
       "       'JOHN CRANE SEALING SYSTEMS INDIA PVT LTD',\n",
       "       'bekaert india technical center', 'Iron Systems Inc',\n",
       "       'Principal Financial Services Inc.', 'buck global llc', 'Uscreen',\n",
       "       'Zoxima Solutions Pvt. Ltd.',\n",
       "       'PEOPLE TECH ENTERPRISES PRIVATE LIMITED', 'Allwyn Corporation',\n",
       "       'The Edge Asia', 'zones corporate solutions', 'Akzo Noble Pvt Ltd',\n",
       "       'CoWrks', 'Triveni Engineering & Industries Ltd', 'origin hr',\n",
       "       'Nineleaps', 'ivy tech solutions',\n",
       "       'advanced risk analytics private limited',\n",
       "       'krazy mantra hr solutions', 'apex jobs', 'toolyt',\n",
       "       'cibirix digital media', 'ADROIT LEARNING AND MANPOWER PVT LTD',\n",
       "       'CIGNEX Datamatics Technologies Pvt Ltd', 'innefu labs pvt. ltd.',\n",
       "       'RDA Labs', 'Ipseity Group', 'BARCODE INDIA LTD',\n",
       "       'Cambium Networks', 'tcg digital solutions pvt ltd',\n",
       "       'mattsenkumar ( hyperquality )', 'AJANTA SOYA LIMITED',\n",
       "       'YuktaMedia LLP', 'Hexanika', 'barracuda networks india pvt ltd',\n",
       "       'savitr software services pvt ltd',\n",
       "       'CMOTS INTERNET TECHNOLOGIES PVT LTD',\n",
       "       'BUSISOL SOURCING INDIA PVT. LTD', 'Sagarsoft', 'nvish solutions'],\n",
       "      dtype=object)"
      ]
     },
     "execution_count": 44,
     "metadata": {},
     "output_type": "execute_result"
    }
   ],
   "source": [
    "df['company_name'].unique()"
   ]
  },
  {
   "cell_type": "code",
   "execution_count": 45,
   "id": "c0f60c96",
   "metadata": {},
   "outputs": [],
   "source": [
    "unwanted_string=\"\\r\\n     (More Jobs)\"\n",
    "df['company_name']=df['company_name'].apply(lambda x: x.replace(unwanted_string,\"\") if unwanted_string in x else x)"
   ]
  },
  {
   "cell_type": "code",
   "execution_count": 47,
   "id": "8b4a359e",
   "metadata": {},
   "outputs": [
    {
     "data": {
      "text/plain": [
       "array(['0 - 3 yrs', '4 - 7 yrs', '3 - 7 yrs', '5 - 6 yrs', '7 - 10 yrs',\n",
       "       '5 - 8 yrs', '3 - 5 yrs', '3 - 6 yrs', '1 - 4 yrs', '2 - 10 yrs',\n",
       "       '2 - 5 yrs', '3 - 20 yrs', '4 - 8 yrs', '6 - 9 yrs', '3 - 4 yrs',\n",
       "       '2 - 3 yrs', '1 - 2 yrs', '8 - 10 yrs', '5 - 7 yrs', '8 - 11 yrs',\n",
       "       '7 - 8 yrs', '0 - 1 yrs', '10 - 15 yrs', '1 - 3 yrs', '5 - 9 yrs',\n",
       "       '4 - 6 yrs', '10 - 13 yrs', '20 - 23 yrs', '3 - 10 yrs',\n",
       "       '2 - 4 yrs', '8 - 12 yrs', '1 - 5 yrs', '5 - 10 yrs', '0 - 5 yrs',\n",
       "       '20 - 25 yrs', '15 - 20 yrs', '7 - 15 yrs', '4 - 5 yrs',\n",
       "       '10 - 12 yrs', '0 - 2 yrs', '25 - 30 yrs', '2 - 7 yrs',\n",
       "       '5 - 11 yrs', '17 - 20 yrs', '6 - 8 yrs', '12 - 15 yrs',\n",
       "       '2 - 6 yrs', '15 - 18 yrs', '3 - 8 yrs', '2 - 8 yrs', '4 - 10 yrs',\n",
       "       '6 - 10 yrs'], dtype=object)"
      ]
     },
     "execution_count": 47,
     "metadata": {},
     "output_type": "execute_result"
    }
   ],
   "source": [
    "df['experience'].unique()"
   ]
  },
  {
   "cell_type": "code",
   "execution_count": 48,
   "id": "2f2bac2e",
   "metadata": {},
   "outputs": [],
   "source": [
    "def clean_experience(data):\n",
    "    data=data[:-4].split('-')\n",
    "    mean=round((int(data[0])+int(data[1]))/2)\n",
    "    return mean"
   ]
  },
  {
   "cell_type": "code",
   "execution_count": 49,
   "id": "8704d042",
   "metadata": {},
   "outputs": [],
   "source": [
    "df['experience']=df['experience'].apply(lambda x:clean_experience(x))"
   ]
  },
  {
   "cell_type": "code",
   "execution_count": 50,
   "id": "6cae25e9",
   "metadata": {},
   "outputs": [
    {
     "data": {
      "text/plain": [
       "array(['Jeddah', 'Jaipur', 'Mumbai', 'Pune', 'Not Mentioned', 'Japan',\n",
       "       'Thiruvananthapuram', 'Vijayawada',\n",
       "       'Hyderabad/Secunderabad,  Bengaluru / Bangalore', 'Gurgaon',\n",
       "       'Bengaluru / Bangalore', 'Hyderabad/Secunderabad', 'Canada',\n",
       "       'France', 'Panchkula', 'Italy', 'Chennai',\n",
       "       'Hyderabad/Secunderabad,  Mumbai,  Bengaluru / Bangalore',\n",
       "       'Indore', 'Noida/Greater Noida', 'Malaysia', 'Ahmedabad',\n",
       "       'Gurgaon,  Chennai', 'Delhi,  Delhi/NCR,  Bengaluru / Bangalore',\n",
       "       'Nagpur', 'New York City', 'Chandigarh',\n",
       "       'Nepal,  Netherlands,  New Zealand,  Norway,  Pakistan',\n",
       "       'Malda,  Midnapur,  Raniganj,  Siliguri,  France',\n",
       "       'Bhilai-Durg,  Bilaspur,  Anand,  Ankleshwar,  Bharuch',\n",
       "       'Nizamabad,  Ongole,  Tezpur,  Tinsukia,  Patna',\n",
       "       'Mumbai,  Latur,  Lonavala,  Mahabaleshwar,  Nagpur',\n",
       "       'Hissar,  Jhajjar,  Jind,  Kaithal,  Karnal',\n",
       "       'Ambala,  Bhiwani,  Gondia,  Hinganghat,  Kalyan',\n",
       "       'Ahmedabad,  Chandigarh,  Surat,  Ambala,  Bhiwani',\n",
       "       'Palakkad,  Thiruvananthapuram,  Thrissur,  Coimbatore,  Cuddalore',\n",
       "       'Ahmedabad,  Bengaluru / Bangalore,  Bongaigaon,  Dhubri,  Dibrugarh',\n",
       "       'Cairo', 'Varanasi / Banaras,  Mumbai', 'Delhi,  Delhi/NCR',\n",
       "       'Mumbai,  Delhi,  Delhi/NCR,  Bengaluru / Bangalore', 'Jordan',\n",
       "       'Pakistan', 'Thailand', 'Hyderabad/Secunderabad,  Chennai',\n",
       "       'Gurgaon,  Mumbai,  Pune', 'Kolkata', 'Delhi', 'Los Angeles',\n",
       "       'Germany', 'Netherlands', 'Singapore', 'Dehradun',\n",
       "       'Surendranagar,  Ranchi,  Calicut/ Kozhikode,  Cochin/ Kochi/ Ernakulam,  Kannur',\n",
       "       'Doha', 'Mohali',\n",
       "       'Hyderabad/Secunderabad,  Kolkata,  Mumbai,  Noida/Greater Noida,  Pune',\n",
       "       'Ahmedabad,  Bengaluru / Bangalore,  Chennai,  Delhi,  Gurgaon',\n",
       "       'Dubai', 'Canada,  null',\n",
       "       'Gurgaon,  Mumbai,  Pune,  Bengaluru / Bangalore', 'Thane',\n",
       "       'Hyderabad/Secunderabad,  Pune', 'Navi Mumbai,  Mumbai',\n",
       "       'Gurgaon,  Bengaluru / Bangalore', 'Switzerland',\n",
       "       'Ahmedabad,  Chennai,  Gurgaon,  Hyderabad/Secunderabad,  Kolkata',\n",
       "       'Bengaluru / Bangalore,  Chennai,  Gurgaon,  Hyderabad/Secunderabad,  Kolkata',\n",
       "       'Sonepat', 'Mysoru / Mysore,  Bengaluru / Bangalore',\n",
       "       'Cochin/ Kochi/ Ernakulam', 'Australia',\n",
       "       'Ahmedabad,  Chennai,  Gurgaon,  Hyderabad/Secunderabad,  Pune',\n",
       "       'Chennai,  Bengaluru / Bangalore', 'Mumbai,  Jaipur',\n",
       "       'Mumbai,  Thane,  Delhi/NCR,  Pune,  Bengaluru / Bangalore',\n",
       "       'Mumbai,  Dombivali,  Kalyan,  Navi Mumbai,  Thane',\n",
       "       'Pune,  Amravati,  Aurangabad,  Sangli,  Satara',\n",
       "       'Ahmedabad,  Bhavnagar,  Gandhinagar,  Jamnagar,  Mehsana',\n",
       "       'Ahmedabad,  Bengaluru / Bangalore,  Chennai,  Delhi,  Hyderabad/Secunderabad',\n",
       "       'Hyderabad/Secunderabad,  Pune,  Bengaluru / Bangalore',\n",
       "       'Gurgaon,  Pune', 'Noida/Greater Noida,  Bengaluru / Bangalore',\n",
       "       'Mexico', 'Hong Kong',\n",
       "       'Bengaluru / Bangalore,  Belgaum,  Bellary,  Bidar,  Davanagere',\n",
       "       'Ahmednagar,  Akola,  Amravati,  Aurangabad,  Bhiwandi',\n",
       "       'Bhilai-Durg,  Bilaspur,  Raipur,  Panjim/Panaji,  Vasco Da Gama',\n",
       "       'Ahmedabad,  Bengaluru / Bangalore,  Chennai,  Delhi,  Kolkata',\n",
       "       'Philadelphia', 'Mumbai,  Pune', 'Surat,  Pune', 'Washington DC',\n",
       "       'Spain', 'Bhopal', 'Anand'], dtype=object)"
      ]
     },
     "execution_count": 50,
     "metadata": {},
     "output_type": "execute_result"
    }
   ],
   "source": [
    "df['location'].unique()"
   ]
  },
  {
   "cell_type": "code",
   "execution_count": 51,
   "id": "20b4922e",
   "metadata": {},
   "outputs": [],
   "source": [
    "def clean_location(data):\n",
    "    location_dict={'Hyderabad/Secunderabad':'Hyderabad','Bengaluru / Bangalore':'Bangalore',\n",
    "                       'Delhi/NCR':'Delhi','Varanasi / Banaras':'Varanasi','Calicut/ Kozhikode':'Calicut',\n",
    "                       'Cochin/ Kochi/ Ernakulam':'Cochin','Noida/Greater Noida':'Noida','Navi Mumbai':'Mumbai',\n",
    "                       'Other City(s) in Uttaranchal':'','Other City(s) in Punjab':'','Other City(s) in Uttar Pradesh':'',\n",
    "                       'Other City(s) in Andhra Pradesh':'','Other City(s) in Rajasthan':'','Other City(s) in West Bengal':'',\n",
    "                       'Panjim/Panaji':'Goa','Mysoru / Mysore':'Mysore'}\n",
    "    data_list=data.split(\",\")\n",
    "    for i in range(len(data_list)):\n",
    "        j=data_list[i].strip()\n",
    "        if j in location_dict.keys():\n",
    "            data_list[i]=location_dict[j]\n",
    "        else:\n",
    "            data_list[i]=data_list[i].strip()\n",
    "    data=','.join(data_list)\n",
    "    return data\n",
    "    "
   ]
  },
  {
   "cell_type": "code",
   "execution_count": 52,
   "id": "66e9aad1",
   "metadata": {},
   "outputs": [],
   "source": [
    "df['location']=df['location'].apply(lambda x: clean_location(x))"
   ]
  },
  {
   "cell_type": "code",
   "execution_count": 53,
   "id": "37c7d45f",
   "metadata": {},
   "outputs": [],
   "source": [
    "df['posted_at']=df['posted_at'].replace({'\\nWork from Home \\r\\n\\t\\t    \\t':'Work from Home'})"
   ]
  },
  {
   "cell_type": "code",
   "execution_count": 54,
   "id": "9c446860",
   "metadata": {
    "scrolled": false
   },
   "outputs": [
    {
     "data": {
      "text/html": [
       "<div>\n",
       "<style scoped>\n",
       "    .dataframe tbody tr th:only-of-type {\n",
       "        vertical-align: middle;\n",
       "    }\n",
       "\n",
       "    .dataframe tbody tr th {\n",
       "        vertical-align: top;\n",
       "    }\n",
       "\n",
       "    .dataframe thead th {\n",
       "        text-align: right;\n",
       "    }\n",
       "</style>\n",
       "<table border=\"1\" class=\"dataframe\">\n",
       "  <thead>\n",
       "    <tr style=\"text-align: right;\">\n",
       "      <th></th>\n",
       "      <th>company_name</th>\n",
       "      <th>experience</th>\n",
       "      <th>location</th>\n",
       "      <th>skills</th>\n",
       "      <th>posted_at</th>\n",
       "    </tr>\n",
       "  </thead>\n",
       "  <tbody>\n",
       "    <tr>\n",
       "      <th>0</th>\n",
       "      <td>Armaco Chemical Processes Systems Pvt Ltd</td>\n",
       "      <td>2</td>\n",
       "      <td>Jeddah</td>\n",
       "      <td>business system  ,  infrastructure  ,  data sc...</td>\n",
       "      <td>Posted 3 days ago</td>\n",
       "    </tr>\n",
       "    <tr>\n",
       "      <th>1</th>\n",
       "      <td>HyreFox Consultants</td>\n",
       "      <td>2</td>\n",
       "      <td>Jaipur</td>\n",
       "      <td>data science  ,  data cleaning  ,  data scient...</td>\n",
       "      <td>Posted 5 days ago</td>\n",
       "    </tr>\n",
       "    <tr>\n",
       "      <th>2</th>\n",
       "      <td>Nielsen Research Ltd. Co.</td>\n",
       "      <td>6</td>\n",
       "      <td>Mumbai</td>\n",
       "      <td>visualization  ,  dashboards  ,  tableau  ,  d...</td>\n",
       "      <td>Posted few days ago</td>\n",
       "    </tr>\n",
       "    <tr>\n",
       "      <th>3</th>\n",
       "      <td>RedLotus</td>\n",
       "      <td>2</td>\n",
       "      <td>Mumbai</td>\n",
       "      <td>data scientist  ,  statistical modeling  ,  da...</td>\n",
       "      <td>Posted few days ago</td>\n",
       "    </tr>\n",
       "    <tr>\n",
       "      <th>4</th>\n",
       "      <td>Armaco Chemical Processes Systems Pvt Ltd</td>\n",
       "      <td>5</td>\n",
       "      <td>Jeddah</td>\n",
       "      <td>bi  ,  sql  ,  database  ,  data science  ,  d...</td>\n",
       "      <td>Posted 3 days ago</td>\n",
       "    </tr>\n",
       "  </tbody>\n",
       "</table>\n",
       "</div>"
      ],
      "text/plain": [
       "                                company_name  experience location  \\\n",
       "0  Armaco Chemical Processes Systems Pvt Ltd           2   Jeddah   \n",
       "1                        HyreFox Consultants           2   Jaipur   \n",
       "2                  Nielsen Research Ltd. Co.           6   Mumbai   \n",
       "3                                   RedLotus           2   Mumbai   \n",
       "4  Armaco Chemical Processes Systems Pvt Ltd           5   Jeddah   \n",
       "\n",
       "                                              skills            posted_at  \n",
       "0  business system  ,  infrastructure  ,  data sc...    Posted 3 days ago  \n",
       "1  data science  ,  data cleaning  ,  data scient...    Posted 5 days ago  \n",
       "2  visualization  ,  dashboards  ,  tableau  ,  d...  Posted few days ago  \n",
       "3  data scientist  ,  statistical modeling  ,  da...  Posted few days ago  \n",
       "4  bi  ,  sql  ,  database  ,  data science  ,  d...    Posted 3 days ago  "
      ]
     },
     "execution_count": 54,
     "metadata": {},
     "output_type": "execute_result"
    }
   ],
   "source": [
    "df.head()"
   ]
  },
  {
   "cell_type": "code",
   "execution_count": 55,
   "id": "f253443a",
   "metadata": {},
   "outputs": [],
   "source": [
    "df.reset_index(drop=True,inplace=True)"
   ]
  },
  {
   "cell_type": "markdown",
   "id": "e4a5bc80",
   "metadata": {},
   "source": [
    "## Data Analysis and Visualization\n",
    "### We are finding out 3 things in this analysis\n",
    "1. What years of experience are employers looking for?\n",
    "2. List of top 30 on demand skills for the specific role\n",
    "3. Which locations offer better opportunities for the specific role?"
   ]
  },
  {
   "cell_type": "code",
   "execution_count": 57,
   "id": "63c79514",
   "metadata": {},
   "outputs": [
    {
     "data": {
      "image/png": "[encoded data removed]",
      "text/plain": [
       "<Figure size 1400x500 with 1 Axes>"
      ]
     },
     "metadata": {},
     "output_type": "display_data"
    }
   ],
   "source": [
    "#1. What years of experience are employers looking for?\n",
    "plt.figure(figsize=(14,5))\n",
    "df['experience'].value_counts().plot(kind='bar',color=\"g\") \n",
    "plt.xlabel('Year of Experience')\n",
    "plt.ylabel('No of Vacancies')\n",
    "plt.title('Experience in Demand by Employers')\n",
    "plt.show()"
   ]
  },
  {
   "cell_type": "code",
   "execution_count": 58,
   "id": "35d98381",
   "metadata": {},
   "outputs": [],
   "source": [
    "#2.What are the required skils to become a data scientist\n",
    "series=df.skills.apply(pd.Series).stack()"
   ]
  },
  {
   "cell_type": "code",
   "execution_count": 59,
   "id": "ed893c96",
   "metadata": {},
   "outputs": [],
   "source": [
    "skills_list = series.str.split(',')\n",
    "skills = [skill.strip() for sublist in skills_list for skill in sublist]"
   ]
  },
  {
   "cell_type": "code",
   "execution_count": 60,
   "id": "a769e5e7",
   "metadata": {},
   "outputs": [],
   "source": [
    "skillset=pd.Series(skills).value_counts()[:30]"
   ]
  },
  {
   "cell_type": "code",
   "execution_count": 61,
   "id": "90017261",
   "metadata": {},
   "outputs": [
    {
     "data": {
      "image/png": "[encoded data removed]",
      "text/plain": [
       "<Figure size 1600x500 with 1 Axes>"
      ]
     },
     "metadata": {},
     "output_type": "display_data"
    }
   ],
   "source": [
    "plt.figure(figsize=(16,5))\n",
    "sns.barplot(x=skillset.index,y=skillset.values)\n",
    "plt.xticks(rotation=90,fontsize=11)\n",
    "plt.yticks(fontsize=11)\n",
    "plt.title(f'Top 30 Skills in Demand for {input_.title()}',fontsize=14)\n",
    "plt.ylabel('No of Vacancies',fontsize=11)\n",
    "plt.show()"
   ]
  },
  {
   "cell_type": "code",
   "execution_count": 62,
   "id": "d15046f4",
   "metadata": {},
   "outputs": [],
   "source": [
    "#3. Which locations offer better opportunities for data scientist role"
   ]
  },
  {
   "cell_type": "code",
   "execution_count": 63,
   "id": "3091ce84",
   "metadata": {},
   "outputs": [],
   "source": [
    "s=df.location.apply(pd.Series).stack()"
   ]
  },
  {
   "cell_type": "code",
   "execution_count": 64,
   "id": "253aa8e0",
   "metadata": {},
   "outputs": [],
   "source": [
    "location_list = s.str.split(',')\n",
    "loc = [place.strip() for sublist in location_list for place in sublist]"
   ]
  },
  {
   "cell_type": "code",
   "execution_count": 65,
   "id": "d84f8031",
   "metadata": {},
   "outputs": [],
   "source": [
    "location_set=pd.Series(loc).value_counts()[:7]"
   ]
  },
  {
   "cell_type": "code",
   "execution_count": 66,
   "id": "1cceeb83",
   "metadata": {},
   "outputs": [
    {
     "data": {
      "image/png": "[encoded data removed]",
      "text/plain": [
       "<Figure size 640x480 with 1 Axes>"
      ]
     },
     "metadata": {},
     "output_type": "display_data"
    }
   ],
   "source": [
    "colors = ['#ff9999','#66b3ff','#99ff99','#ffcc99','#eedd82','#d5a6bd','#c8c8c8']\n",
    "plt.pie(location_set,labels=location_set.index,autopct='%1.1f%%',explode=(0.07,0,0,0,0,0,0),shadow=True,colors=colors)\n",
    "plt.show()"
   ]
  },
  {
   "cell_type": "code",
   "execution_count": null,
   "id": "3f88e29b",
   "metadata": {},
   "outputs": [],
   "source": []
  },
  {
   "cell_type": "code",
   "execution_count": null,
   "id": "e2794cbd",
   "metadata": {},
   "outputs": [],
   "source": []
  },
  {
   "cell_type": "code",
   "execution_count": null,
   "id": "7ebf9425",
   "metadata": {},
   "outputs": [],
   "source": []
  },
  {
   "cell_type": "code",
   "execution_count": null,
   "id": "c845dfe6",
   "metadata": {},
   "outputs": [],
   "source": []
  }
 ],
 "metadata": {
  "kernelspec": {
   "display_name": "Python 3 (ipykernel)",
   "language": "python",
   "name": "python3"
  },
  "language_info": {
   "codemirror_mode": {
    "name": "ipython",
    "version": 3
   },
   "file_extension": ".py",
   "mimetype": "text/x-python",
   "name": "python",
   "nbconvert_exporter": "python",
   "pygments_lexer": "ipython3",
   "version": "3.11.1"
  }
 },
 "nbformat": 4,
 "nbformat_minor": 5
}
